{
 "cells": [
  {
   "cell_type": "markdown",
   "id": "fc50b61f",
   "metadata": {},
   "source": [
    "## Project 3 - Variable Selection for Regression (Non Linear Programming)\n",
    "---\n",
    "**Group 22 - Anudeep Kumar Akkana (aa92799),Snehal Naravane (sn27429), Prathmesh Savale (ps33296), Vishwak Venkatesh (vv8257)**\n"
   ]
  },
  {
   "cell_type": "code",
   "execution_count": 1,
   "id": "bfcba6ef",
   "metadata": {},
   "outputs": [],
   "source": [
    "# importing required libraries\n",
    "import pandas as pd\n",
    "import numpy as np\n",
    "import gurobipy as gp\n",
    "import matplotlib.pyplot as plt\n",
    "import warnings\n",
    "from sklearn.linear_model import LassoCV\n",
    "from sklearn.linear_model import Lasso\n",
    "from sklearn.metrics import mean_squared_error\n",
    "import seaborn as sns\n",
    "warnings.filterwarnings('ignore')\n",
    "plt.style.use('seaborn')"
   ]
  },
  {
   "cell_type": "code",
   "execution_count": 2,
   "id": "7b9bbb22",
   "metadata": {},
   "outputs": [],
   "source": [
    "# setting time limit for gurobi\n",
    "timeLimit = 7200"
   ]
  },
  {
   "cell_type": "markdown",
   "id": "1a02a457",
   "metadata": {},
   "source": [
    "## Importing train and test sets"
   ]
  },
  {
   "cell_type": "code",
   "execution_count": 3,
   "id": "60700e4f",
   "metadata": {},
   "outputs": [],
   "source": [
    "# import train and test sets\n",
    "train = pd.read_csv('training_data.csv')\n",
    "test = pd.read_csv('test_data.csv')"
   ]
  },
  {
   "cell_type": "code",
   "execution_count": 4,
   "id": "e07e83e3",
   "metadata": {},
   "outputs": [
    {
     "data": {
      "text/html": [
       "<div>\n",
       "<style scoped>\n",
       "    .dataframe tbody tr th:only-of-type {\n",
       "        vertical-align: middle;\n",
       "    }\n",
       "\n",
       "    .dataframe tbody tr th {\n",
       "        vertical-align: top;\n",
       "    }\n",
       "\n",
       "    .dataframe thead th {\n",
       "        text-align: right;\n",
       "    }\n",
       "</style>\n",
       "<table border=\"1\" class=\"dataframe\">\n",
       "  <thead>\n",
       "    <tr style=\"text-align: right;\">\n",
       "      <th></th>\n",
       "      <th>y</th>\n",
       "      <th>X1</th>\n",
       "      <th>X2</th>\n",
       "      <th>X3</th>\n",
       "      <th>X4</th>\n",
       "      <th>X5</th>\n",
       "      <th>X6</th>\n",
       "      <th>X7</th>\n",
       "      <th>X8</th>\n",
       "      <th>X9</th>\n",
       "      <th>...</th>\n",
       "      <th>X41</th>\n",
       "      <th>X42</th>\n",
       "      <th>X43</th>\n",
       "      <th>X44</th>\n",
       "      <th>X45</th>\n",
       "      <th>X46</th>\n",
       "      <th>X47</th>\n",
       "      <th>X48</th>\n",
       "      <th>X49</th>\n",
       "      <th>X50</th>\n",
       "    </tr>\n",
       "  </thead>\n",
       "  <tbody>\n",
       "    <tr>\n",
       "      <th>0</th>\n",
       "      <td>8.536145</td>\n",
       "      <td>-1.535413</td>\n",
       "      <td>0.718888</td>\n",
       "      <td>-2.099149</td>\n",
       "      <td>-0.442842</td>\n",
       "      <td>-0.598978</td>\n",
       "      <td>-1.642574</td>\n",
       "      <td>0.207755</td>\n",
       "      <td>0.760642</td>\n",
       "      <td>0.575874</td>\n",
       "      <td>...</td>\n",
       "      <td>0.361866</td>\n",
       "      <td>1.793098</td>\n",
       "      <td>-0.631287</td>\n",
       "      <td>-0.061751</td>\n",
       "      <td>0.511049</td>\n",
       "      <td>0.488754</td>\n",
       "      <td>-0.612772</td>\n",
       "      <td>-0.471045</td>\n",
       "      <td>-1.139781</td>\n",
       "      <td>-0.260773</td>\n",
       "    </tr>\n",
       "    <tr>\n",
       "      <th>1</th>\n",
       "      <td>4.808344</td>\n",
       "      <td>-1.734609</td>\n",
       "      <td>0.551981</td>\n",
       "      <td>-2.147673</td>\n",
       "      <td>-1.552944</td>\n",
       "      <td>1.514910</td>\n",
       "      <td>-1.143972</td>\n",
       "      <td>0.737594</td>\n",
       "      <td>1.321243</td>\n",
       "      <td>-0.261684</td>\n",
       "      <td>...</td>\n",
       "      <td>-0.677985</td>\n",
       "      <td>-0.165679</td>\n",
       "      <td>0.065405</td>\n",
       "      <td>0.137162</td>\n",
       "      <td>1.258197</td>\n",
       "      <td>-0.120834</td>\n",
       "      <td>-1.564834</td>\n",
       "      <td>-0.242565</td>\n",
       "      <td>-0.001827</td>\n",
       "      <td>1.187453</td>\n",
       "    </tr>\n",
       "    <tr>\n",
       "      <th>2</th>\n",
       "      <td>-1.530427</td>\n",
       "      <td>0.097257</td>\n",
       "      <td>0.107634</td>\n",
       "      <td>-0.194222</td>\n",
       "      <td>0.335454</td>\n",
       "      <td>-0.408199</td>\n",
       "      <td>0.133265</td>\n",
       "      <td>0.706179</td>\n",
       "      <td>0.394971</td>\n",
       "      <td>-0.437116</td>\n",
       "      <td>...</td>\n",
       "      <td>1.108801</td>\n",
       "      <td>0.333791</td>\n",
       "      <td>0.282055</td>\n",
       "      <td>-1.086294</td>\n",
       "      <td>-0.115354</td>\n",
       "      <td>0.257857</td>\n",
       "      <td>-0.088838</td>\n",
       "      <td>-0.751231</td>\n",
       "      <td>1.450609</td>\n",
       "      <td>0.290593</td>\n",
       "    </tr>\n",
       "    <tr>\n",
       "      <th>3</th>\n",
       "      <td>-0.428243</td>\n",
       "      <td>-0.067702</td>\n",
       "      <td>0.557836</td>\n",
       "      <td>0.700848</td>\n",
       "      <td>-1.121376</td>\n",
       "      <td>1.722274</td>\n",
       "      <td>0.613525</td>\n",
       "      <td>0.700909</td>\n",
       "      <td>-0.417976</td>\n",
       "      <td>1.069749</td>\n",
       "      <td>...</td>\n",
       "      <td>0.692511</td>\n",
       "      <td>-0.350990</td>\n",
       "      <td>0.624558</td>\n",
       "      <td>0.434520</td>\n",
       "      <td>-0.367409</td>\n",
       "      <td>-1.144681</td>\n",
       "      <td>-0.136524</td>\n",
       "      <td>-0.557214</td>\n",
       "      <td>0.416303</td>\n",
       "      <td>0.484495</td>\n",
       "    </tr>\n",
       "    <tr>\n",
       "      <th>4</th>\n",
       "      <td>0.566694</td>\n",
       "      <td>0.488729</td>\n",
       "      <td>0.211483</td>\n",
       "      <td>0.568389</td>\n",
       "      <td>0.646837</td>\n",
       "      <td>0.163868</td>\n",
       "      <td>-0.002152</td>\n",
       "      <td>0.125137</td>\n",
       "      <td>0.493571</td>\n",
       "      <td>1.705451</td>\n",
       "      <td>...</td>\n",
       "      <td>-0.000605</td>\n",
       "      <td>1.075280</td>\n",
       "      <td>0.182281</td>\n",
       "      <td>-1.138458</td>\n",
       "      <td>0.106092</td>\n",
       "      <td>0.544640</td>\n",
       "      <td>-0.383487</td>\n",
       "      <td>-0.425773</td>\n",
       "      <td>2.667647</td>\n",
       "      <td>-0.050748</td>\n",
       "    </tr>\n",
       "  </tbody>\n",
       "</table>\n",
       "<p>5 rows × 51 columns</p>\n",
       "</div>"
      ],
      "text/plain": [
       "          y        X1        X2        X3        X4        X5        X6  \\\n",
       "0  8.536145 -1.535413  0.718888 -2.099149 -0.442842 -0.598978 -1.642574   \n",
       "1  4.808344 -1.734609  0.551981 -2.147673 -1.552944  1.514910 -1.143972   \n",
       "2 -1.530427  0.097257  0.107634 -0.194222  0.335454 -0.408199  0.133265   \n",
       "3 -0.428243 -0.067702  0.557836  0.700848 -1.121376  1.722274  0.613525   \n",
       "4  0.566694  0.488729  0.211483  0.568389  0.646837  0.163868 -0.002152   \n",
       "\n",
       "         X7        X8        X9  ...       X41       X42       X43       X44  \\\n",
       "0  0.207755  0.760642  0.575874  ...  0.361866  1.793098 -0.631287 -0.061751   \n",
       "1  0.737594  1.321243 -0.261684  ... -0.677985 -0.165679  0.065405  0.137162   \n",
       "2  0.706179  0.394971 -0.437116  ...  1.108801  0.333791  0.282055 -1.086294   \n",
       "3  0.700909 -0.417976  1.069749  ...  0.692511 -0.350990  0.624558  0.434520   \n",
       "4  0.125137  0.493571  1.705451  ... -0.000605  1.075280  0.182281 -1.138458   \n",
       "\n",
       "        X45       X46       X47       X48       X49       X50  \n",
       "0  0.511049  0.488754 -0.612772 -0.471045 -1.139781 -0.260773  \n",
       "1  1.258197 -0.120834 -1.564834 -0.242565 -0.001827  1.187453  \n",
       "2 -0.115354  0.257857 -0.088838 -0.751231  1.450609  0.290593  \n",
       "3 -0.367409 -1.144681 -0.136524 -0.557214  0.416303  0.484495  \n",
       "4  0.106092  0.544640 -0.383487 -0.425773  2.667647 -0.050748  \n",
       "\n",
       "[5 rows x 51 columns]"
      ]
     },
     "execution_count": 4,
     "metadata": {},
     "output_type": "execute_result"
    }
   ],
   "source": [
    "train.head()"
   ]
  },
  {
   "cell_type": "markdown",
   "id": "5c95aa2a",
   "metadata": {},
   "source": [
    "## MIQP (Direct Variable Selection)"
   ]
  },
  {
   "cell_type": "code",
   "execution_count": 5,
   "id": "52a51496",
   "metadata": {},
   "outputs": [],
   "source": [
    "M = 15 # Setting Big M value as 15\n",
    "n = len(train)\n",
    "m = train.shape[1] - 1 # Number of features"
   ]
  },
  {
   "cell_type": "markdown",
   "id": "48170371",
   "metadata": {},
   "source": [
    "Let's create 10 cross-validation folds. For each value of k, we'll train optimization models on 9 folds & test it on the remaining fold. Thus for each value of k, we'll train 10 models.\n",
    "\n",
    "We'll repeat this for each value of k from 5 to 50 resulting in 100 models trained.\n",
    "\n",
    "The value of k with the least MSE will be selected"
   ]
  },
  {
   "cell_type": "code",
   "execution_count": 6,
   "id": "a1aaef2f",
   "metadata": {},
   "outputs": [],
   "source": [
    "# Cross validation\n",
    "folds = []\n",
    "indices = np.array(train.index)\n",
    "for i in range(10):\n",
    "    new_fold = list(np.random.choice(indices, int(n/10), replace = False))\n",
    "    folds.append(new_fold)\n",
    "    indices = np.delete(indices, np.argwhere(np.isin(indices,new_fold)))"
   ]
  },
  {
   "cell_type": "code",
   "execution_count": 7,
   "id": "cac352f9",
   "metadata": {},
   "outputs": [],
   "source": [
    "folds = np.array(folds)"
   ]
  },
  {
   "cell_type": "code",
   "execution_count": 8,
   "id": "a54815ca",
   "metadata": {},
   "outputs": [
    {
     "name": "stdout",
     "output_type": "stream",
     "text": [
      "Set parameter Username\n",
      "Academic license - for non-commercial use only - expires 2023-08-19\n",
      "MIQP with 5 variables done\n",
      "MIQP with 10 variables done\n",
      "MIQP with 15 variables done\n",
      "MIQP with 20 variables done\n",
      "MIQP with 25 variables done\n",
      "MIQP with 30 variables done\n",
      "MIQP with 35 variables done\n",
      "MIQP with 40 variables done\n",
      "MIQP with 45 variables done\n",
      "MIQP with 50 variables done\n"
     ]
    }
   ],
   "source": [
    "k_list = [i*5 for i in range(1,11)]\n",
    "mse = []\n",
    "for k in k_list:\n",
    "    \n",
    "    ind_mse = []\n",
    "    for val_test_ind in folds:\n",
    "\n",
    "        val_train_ind = np.delete(folds, np.argwhere(np.isin(folds.flatten(),val_test_ind)))\n",
    "\n",
    "        X = np.ones((len(val_train_ind), m+1))\n",
    "        X[:,1:] = np.array(train.iloc[val_train_ind].drop(['y'], axis = 1))\n",
    "\n",
    "        # Quadratic term\n",
    "        Q = np.zeros((2*m + 1, 2*m + 1))\n",
    "        Q[:(m+1),:(m+1)] = np.transpose(X) @ X\n",
    "\n",
    "        # linear term\n",
    "        c = np.zeros((2*m + 1))\n",
    "        c[:(m+1)] = (-2 * np.transpose(np.array(train.iloc[val_train_ind]['y']))) @ X\n",
    "\n",
    "        # Constraints\n",
    "        # 2*m big M constraints + 1 k constraint\n",
    "        A = np.zeros((2*m+1, 2*m+1)) # m+1 betas & m z variables\n",
    "        A[0:m,1:m+1] = np.identity(m)\n",
    "        A[0:m,m+1:2*m+1] = np.identity(m) * M\n",
    "        A[m:2*m,1:m+1] = np.identity(m)\n",
    "        A[m:2*m,m+1:2*m+1] = np.identity(m) * (-M)\n",
    "        A[2*m,m+1:2*m+1] = 1\n",
    "\n",
    "        # RHS\n",
    "        rhs = np.zeros((2*m+1))\n",
    "        rhs[2*m] = k\n",
    "\n",
    "        # Direction of constraints\n",
    "        sense = ['>'] * m + ['<'] * m + ['<']\n",
    "\n",
    "        # Variable types - m+1 betas can take any values & m z should be binary\n",
    "        vtypes = ['C'] * (m+1) + ['B'] * m\n",
    "        \n",
    "        # Lower bounds - lb for coefficients is -M & 0 for the z variables\n",
    "        lb = np.array([-M] * (m+1) + [0] * m)\n",
    "\n",
    "        # Solve the problem\n",
    "        op_mod = gp.Model()\n",
    "        op_mod_x = op_mod.addMVar(2*m + 1, vtype = vtypes, lb = lb)\n",
    "        op_mod_con = op_mod.addMConstr(A, op_mod_x, sense, rhs)\n",
    "        op_mod.setMObjective(Q,c,0,sense=gp.GRB.MINIMIZE) # Having Q in the quadratic terms & c for linear terms\n",
    "\n",
    "        op_mod.Params.OutputFlag = 0 \n",
    "        op_mod.Params.TimeLimit = timeLimit\n",
    "        op_mod.optimize()\n",
    "\n",
    "        x_val = np.hstack((np.ones((len(val_test_ind),1)), train.iloc[val_test_ind].drop(['y'], axis = 1)))\n",
    "        y_val_pred = x_val @ op_mod_x.x[0:m+1]\n",
    "        y_val = train.iloc[val_test_ind]['y']\n",
    "        ind_mse.append(mean_squared_error(y_val, y_val_pred))\n",
    "        \n",
    "    print('MIQP with', k, 'variables done')\n",
    "    mse.append(np.mean(ind_mse))"
   ]
  },
  {
   "cell_type": "code",
   "execution_count": 9,
   "id": "16e6c106",
   "metadata": {},
   "outputs": [],
   "source": [
    "mse_df = pd.DataFrame(mse, index = k_list)\n",
    "mse_df.to_csv('MSE.csv')"
   ]
  },
  {
   "cell_type": "code",
   "execution_count": 16,
   "id": "ecc536a3",
   "metadata": {},
   "outputs": [],
   "source": [
    "mse_df = pd.read_csv('MSE.csv', index_col = ['Unnamed: 0'])"
   ]
  },
  {
   "cell_type": "code",
   "execution_count": 22,
   "id": "2da50143",
   "metadata": {},
   "outputs": [
    {
     "data": {
      "text/plain": [
       "<Figure size 1440x576 with 0 Axes>"
      ]
     },
     "metadata": {},
     "output_type": "display_data"
    },
    {
     "data": {
      "image/png": "[encoded data removed]",
      "text/plain": [
       "<Figure size 576x396 with 1 Axes>"
      ]
     },
     "metadata": {},
     "output_type": "display_data"
    }
   ],
   "source": [
    "plt.figure(3, figsize=(20, 8))\n",
    "mse_df.plot(legend = None)\n",
    "plt.xlabel('# of variables', fontsize = 13)\n",
    "plt.ylabel('Average MSE', fontsize = 13)\n",
    "plt.title('Cross-validation error', fontdict={'fontsize': 16})\n",
    "plt.xticks(fontsize= 11)\n",
    "plt.yticks(fontsize= 11)\n",
    "plt.show()"
   ]
  },
  {
   "cell_type": "markdown",
   "id": "09c6e23b",
   "metadata": {},
   "source": [
    "**k = 10 has the least cross-validation error**"
   ]
  },
  {
   "cell_type": "code",
   "execution_count": 8,
   "id": "4d5dcabc",
   "metadata": {},
   "outputs": [],
   "source": [
    "# Now fit MIQP on entire training set with k = 10\n",
    "k = 10"
   ]
  },
  {
   "cell_type": "code",
   "execution_count": 9,
   "id": "810e1e29",
   "metadata": {},
   "outputs": [
    {
     "data": {
      "text/plain": [
       "array([[ 1.00000000e+00, -1.53541286e+00,  7.18887717e-01, ...,\n",
       "        -4.71045042e-01, -1.13978107e+00, -2.60772742e-01],\n",
       "       [ 1.00000000e+00, -1.73460938e+00,  5.51981259e-01, ...,\n",
       "        -2.42564880e-01, -1.82662085e-03,  1.18745316e+00],\n",
       "       [ 1.00000000e+00,  9.72566647e-02,  1.07634348e-01, ...,\n",
       "        -7.51230919e-01,  1.45060937e+00,  2.90593419e-01],\n",
       "       ...,\n",
       "       [ 1.00000000e+00,  9.12367152e-02,  4.73697596e-01, ...,\n",
       "        -8.41853603e-02, -2.00142679e-01,  8.40785925e-01],\n",
       "       [ 1.00000000e+00, -1.40700336e+00,  5.10885944e-01, ...,\n",
       "        -5.22506923e-02,  5.43761518e-01,  2.74006244e-01],\n",
       "       [ 1.00000000e+00, -1.95950543e+00,  2.71732927e-01, ...,\n",
       "         2.05276206e+00,  3.35630224e-02, -1.19848557e+00]])"
      ]
     },
     "execution_count": 9,
     "metadata": {},
     "output_type": "execute_result"
    }
   ],
   "source": [
    "# Create the X term\n",
    "X = np.ones((n, m+1))\n",
    "X[:,1:] = np.array(train.drop(['y'], axis = 1))\n",
    "X"
   ]
  },
  {
   "cell_type": "code",
   "execution_count": 10,
   "id": "fbeb6027",
   "metadata": {},
   "outputs": [
    {
     "data": {
      "text/plain": [
       "array([[250.        , -21.82060874,   6.6181744 , ...,   0.        ,\n",
       "          0.        ,   0.        ],\n",
       "       [-21.82060874, 294.48645592, -23.11583679, ...,   0.        ,\n",
       "          0.        ,   0.        ],\n",
       "       [  6.6181744 , -23.11583679, 205.70270984, ...,   0.        ,\n",
       "          0.        ,   0.        ],\n",
       "       ...,\n",
       "       [  0.        ,   0.        ,   0.        , ...,   0.        ,\n",
       "          0.        ,   0.        ],\n",
       "       [  0.        ,   0.        ,   0.        , ...,   0.        ,\n",
       "          0.        ,   0.        ],\n",
       "       [  0.        ,   0.        ,   0.        , ...,   0.        ,\n",
       "          0.        ,   0.        ]])"
      ]
     },
     "execution_count": 10,
     "metadata": {},
     "output_type": "execute_result"
    }
   ],
   "source": [
    "# Quadratic term\n",
    "Q = np.zeros((2*m + 1, 2*m + 1))\n",
    "Q[:(m+1),:(m+1)] = np.transpose(X) @ X\n",
    "Q"
   ]
  },
  {
   "cell_type": "code",
   "execution_count": 11,
   "id": "01401a77",
   "metadata": {},
   "outputs": [
    {
     "data": {
      "text/plain": [
       "array([-638.11624311,  343.36934241,   54.54405608,  274.0074376 ,\n",
       "        546.98965887,  303.53964959, -158.00065103,  573.07981675,\n",
       "        237.62019633, 1799.38142127, -186.14261381,  314.54531445,\n",
       "        292.98329336,  123.95195574,  548.66969632,  424.12023934,\n",
       "       1155.83230325, -167.61818145,  456.43296426, -176.0475388 ,\n",
       "       -247.23531054, -454.20054062,  795.84357421,  446.01483599,\n",
       "       -887.17851852, -134.34311241, 1102.16230976, -299.69285586,\n",
       "       -245.9323427 , -827.29465903,  165.38942932,  153.37851856,\n",
       "        171.77012239,  644.1361135 , -151.27649651, -866.9939987 ,\n",
       "        122.55748068,  397.1161159 ,  -99.67517163,  167.08652963,\n",
       "        152.17696572,  -92.06136727, -199.81913824,   50.5061756 ,\n",
       "       -444.32648337, -810.99631196,  200.57475569,  303.48897075,\n",
       "        253.66344732,  276.62139926,  -38.93151649,    0.        ,\n",
       "          0.        ,    0.        ,    0.        ,    0.        ,\n",
       "          0.        ,    0.        ,    0.        ,    0.        ,\n",
       "          0.        ,    0.        ,    0.        ,    0.        ,\n",
       "          0.        ,    0.        ,    0.        ,    0.        ,\n",
       "          0.        ,    0.        ,    0.        ,    0.        ,\n",
       "          0.        ,    0.        ,    0.        ,    0.        ,\n",
       "          0.        ,    0.        ,    0.        ,    0.        ,\n",
       "          0.        ,    0.        ,    0.        ,    0.        ,\n",
       "          0.        ,    0.        ,    0.        ,    0.        ,\n",
       "          0.        ,    0.        ,    0.        ,    0.        ,\n",
       "          0.        ,    0.        ,    0.        ,    0.        ,\n",
       "          0.        ,    0.        ,    0.        ,    0.        ,\n",
       "          0.        ])"
      ]
     },
     "execution_count": 11,
     "metadata": {},
     "output_type": "execute_result"
    }
   ],
   "source": [
    "# linear term\n",
    "c = np.zeros((2*m + 1))\n",
    "c[:(m+1)] = (-2 * np.transpose(np.array(train['y']))) @ X\n",
    "c"
   ]
  },
  {
   "cell_type": "code",
   "execution_count": 12,
   "id": "30457444",
   "metadata": {},
   "outputs": [
    {
     "data": {
      "text/plain": [
       "array([[  0.,   1.,   0., ...,   0.,   0.,   0.],\n",
       "       [  0.,   0.,   1., ...,   0.,   0.,   0.],\n",
       "       [  0.,   0.,   0., ...,   0.,   0.,   0.],\n",
       "       ...,\n",
       "       [  0.,   0.,   0., ...,  -0., -15.,  -0.],\n",
       "       [  0.,   0.,   0., ...,  -0.,  -0., -15.],\n",
       "       [  0.,   0.,   0., ...,   1.,   1.,   1.]])"
      ]
     },
     "execution_count": 12,
     "metadata": {},
     "output_type": "execute_result"
    }
   ],
   "source": [
    "# Constraints\n",
    "\n",
    "# 2*m big M constraints + 1 k constraint\n",
    "A = np.zeros((2*m+1, 2*m+1)) # m+1 betas & m z variables\n",
    "\n",
    "# No big M constraint for beta 0\n",
    "A[0:m,1:m+1] = np.identity(m)\n",
    "A[0:m,m+1:2*m+1] = np.identity(m) * M\n",
    "A[m:2*m,1:m+1] = np.identity(m)\n",
    "A[m:2*m,m+1:2*m+1] = np.identity(m) * (-M)\n",
    "A[2*m,m+1:2*m+1] = 1\n",
    "A"
   ]
  },
  {
   "cell_type": "code",
   "execution_count": 13,
   "id": "dcac4a75",
   "metadata": {},
   "outputs": [
    {
     "data": {
      "text/plain": [
       "array([ 0.,  0.,  0.,  0.,  0.,  0.,  0.,  0.,  0.,  0.,  0.,  0.,  0.,\n",
       "        0.,  0.,  0.,  0.,  0.,  0.,  0.,  0.,  0.,  0.,  0.,  0.,  0.,\n",
       "        0.,  0.,  0.,  0.,  0.,  0.,  0.,  0.,  0.,  0.,  0.,  0.,  0.,\n",
       "        0.,  0.,  0.,  0.,  0.,  0.,  0.,  0.,  0.,  0.,  0.,  0.,  0.,\n",
       "        0.,  0.,  0.,  0.,  0.,  0.,  0.,  0.,  0.,  0.,  0.,  0.,  0.,\n",
       "        0.,  0.,  0.,  0.,  0.,  0.,  0.,  0.,  0.,  0.,  0.,  0.,  0.,\n",
       "        0.,  0.,  0.,  0.,  0.,  0.,  0.,  0.,  0.,  0.,  0.,  0.,  0.,\n",
       "        0.,  0.,  0.,  0.,  0.,  0.,  0.,  0.,  0., 10.])"
      ]
     },
     "execution_count": 13,
     "metadata": {},
     "output_type": "execute_result"
    }
   ],
   "source": [
    "# RHS\n",
    "rhs = np.zeros((2*m+1))\n",
    "rhs[2*m] = k\n",
    "rhs"
   ]
  },
  {
   "cell_type": "code",
   "execution_count": 14,
   "id": "c02dba53",
   "metadata": {},
   "outputs": [],
   "source": [
    "# Direction of constraints\n",
    "sense = ['>'] * m + ['<'] * m + ['<']"
   ]
  },
  {
   "cell_type": "code",
   "execution_count": 15,
   "id": "6d8afe22",
   "metadata": {},
   "outputs": [],
   "source": [
    "# Variable types - m+1 betas can take any values & m z should be binary\n",
    "vtypes = ['C'] * (m+1) + ['B'] * m"
   ]
  },
  {
   "cell_type": "code",
   "execution_count": 16,
   "id": "84ec99b2",
   "metadata": {},
   "outputs": [],
   "source": [
    "# Lower bounds - lb for coefficients is -M & 0 for the z variables\n",
    "lb = np.array([-M] * (m+1) + [0] * m)"
   ]
  },
  {
   "cell_type": "code",
   "execution_count": 17,
   "id": "64f50608",
   "metadata": {},
   "outputs": [
    {
     "name": "stdout",
     "output_type": "stream",
     "text": [
      "Set parameter Username\n",
      "Academic license - for non-commercial use only - expires 2023-08-21\n"
     ]
    }
   ],
   "source": [
    "# Solve the problem\n",
    "op_mod = gp.Model()\n",
    "op_mod_x = op_mod.addMVar(2*m + 1, vtype = vtypes, lb = lb)\n",
    "op_mod_con = op_mod.addMConstr(A, op_mod_x, sense, rhs)\n",
    "op_mod.setMObjective(Q,c,0,sense=gp.GRB.MINIMIZE) # Having Q in the quadratic terms & c for linear terms \n",
    "op_mod.Params.OutputFlag = 0 \n",
    "\n",
    "op_mod.optimize()"
   ]
  },
  {
   "cell_type": "code",
   "execution_count": 18,
   "id": "bdca0cd8",
   "metadata": {},
   "outputs": [],
   "source": [
    "miqp_coefs = op_mod_x.x[0:m+1]"
   ]
  },
  {
   "cell_type": "code",
   "execution_count": 19,
   "id": "6cf5ffe0",
   "metadata": {},
   "outputs": [
    {
     "data": {
      "text/html": [
       "<div>\n",
       "<style scoped>\n",
       "    .dataframe tbody tr th:only-of-type {\n",
       "        vertical-align: middle;\n",
       "    }\n",
       "\n",
       "    .dataframe tbody tr th {\n",
       "        vertical-align: top;\n",
       "    }\n",
       "\n",
       "    .dataframe thead th {\n",
       "        text-align: right;\n",
       "    }\n",
       "</style>\n",
       "<table border=\"1\" class=\"dataframe\">\n",
       "  <thead>\n",
       "    <tr style=\"text-align: right;\">\n",
       "      <th></th>\n",
       "      <th>Coefficients</th>\n",
       "    </tr>\n",
       "  </thead>\n",
       "  <tbody>\n",
       "    <tr>\n",
       "      <th>Intercept</th>\n",
       "      <td>0.972524</td>\n",
       "    </tr>\n",
       "    <tr>\n",
       "      <th>X9</th>\n",
       "      <td>-2.308207</td>\n",
       "    </tr>\n",
       "    <tr>\n",
       "      <th>X15</th>\n",
       "      <td>-0.518326</td>\n",
       "    </tr>\n",
       "    <tr>\n",
       "      <th>X16</th>\n",
       "      <td>-0.204162</td>\n",
       "    </tr>\n",
       "    <tr>\n",
       "      <th>X23</th>\n",
       "      <td>-1.559143</td>\n",
       "    </tr>\n",
       "    <tr>\n",
       "      <th>X24</th>\n",
       "      <td>0.866973</td>\n",
       "    </tr>\n",
       "    <tr>\n",
       "      <th>X26</th>\n",
       "      <td>-1.311919</td>\n",
       "    </tr>\n",
       "    <tr>\n",
       "      <th>X34</th>\n",
       "      <td>0.408165</td>\n",
       "    </tr>\n",
       "    <tr>\n",
       "      <th>X45</th>\n",
       "      <td>1.781475</td>\n",
       "    </tr>\n",
       "    <tr>\n",
       "      <th>X47</th>\n",
       "      <td>0.887383</td>\n",
       "    </tr>\n",
       "    <tr>\n",
       "      <th>X48</th>\n",
       "      <td>-0.282292</td>\n",
       "    </tr>\n",
       "  </tbody>\n",
       "</table>\n",
       "</div>"
      ],
      "text/plain": [
       "           Coefficients\n",
       "Intercept      0.972524\n",
       "X9            -2.308207\n",
       "X15           -0.518326\n",
       "X16           -0.204162\n",
       "X23           -1.559143\n",
       "X24            0.866973\n",
       "X26           -1.311919\n",
       "X34            0.408165\n",
       "X45            1.781475\n",
       "X47            0.887383\n",
       "X48           -0.282292"
      ]
     },
     "execution_count": 19,
     "metadata": {},
     "output_type": "execute_result"
    }
   ],
   "source": [
    "# Look at the non-zero MIQP coefficients\n",
    "miqp_coef_df = pd.DataFrame(miqp_coefs, index = train.columns, columns = ['Coefficients'])\n",
    "miqp_coef_df.rename(index = {'y':'Intercept'}, inplace = True)\n",
    "miqp_coef_df.loc[miqp_coef_df['Coefficients']!=0]"
   ]
  },
  {
   "cell_type": "code",
   "execution_count": 20,
   "id": "a1bf4e38",
   "metadata": {},
   "outputs": [
    {
     "data": {
      "text/html": [
       "<div>\n",
       "<style scoped>\n",
       "    .dataframe tbody tr th:only-of-type {\n",
       "        vertical-align: middle;\n",
       "    }\n",
       "\n",
       "    .dataframe tbody tr th {\n",
       "        vertical-align: top;\n",
       "    }\n",
       "\n",
       "    .dataframe thead th {\n",
       "        text-align: right;\n",
       "    }\n",
       "</style>\n",
       "<table border=\"1\" class=\"dataframe\">\n",
       "  <thead>\n",
       "    <tr style=\"text-align: right;\">\n",
       "      <th></th>\n",
       "      <th>Coefficients</th>\n",
       "    </tr>\n",
       "  </thead>\n",
       "  <tbody>\n",
       "    <tr>\n",
       "      <th>X9</th>\n",
       "      <td>-2.308207</td>\n",
       "    </tr>\n",
       "    <tr>\n",
       "      <th>X23</th>\n",
       "      <td>-1.559143</td>\n",
       "    </tr>\n",
       "    <tr>\n",
       "      <th>X26</th>\n",
       "      <td>-1.311919</td>\n",
       "    </tr>\n",
       "    <tr>\n",
       "      <th>X15</th>\n",
       "      <td>-0.518326</td>\n",
       "    </tr>\n",
       "    <tr>\n",
       "      <th>X48</th>\n",
       "      <td>-0.282292</td>\n",
       "    </tr>\n",
       "    <tr>\n",
       "      <th>X16</th>\n",
       "      <td>-0.204162</td>\n",
       "    </tr>\n",
       "    <tr>\n",
       "      <th>X34</th>\n",
       "      <td>0.408165</td>\n",
       "    </tr>\n",
       "    <tr>\n",
       "      <th>X24</th>\n",
       "      <td>0.866973</td>\n",
       "    </tr>\n",
       "    <tr>\n",
       "      <th>X47</th>\n",
       "      <td>0.887383</td>\n",
       "    </tr>\n",
       "    <tr>\n",
       "      <th>X45</th>\n",
       "      <td>1.781475</td>\n",
       "    </tr>\n",
       "  </tbody>\n",
       "</table>\n",
       "</div>"
      ],
      "text/plain": [
       "     Coefficients\n",
       "X9      -2.308207\n",
       "X23     -1.559143\n",
       "X26     -1.311919\n",
       "X15     -0.518326\n",
       "X48     -0.282292\n",
       "X16     -0.204162\n",
       "X34      0.408165\n",
       "X24      0.866973\n",
       "X47      0.887383\n",
       "X45      1.781475"
      ]
     },
     "execution_count": 20,
     "metadata": {},
     "output_type": "execute_result"
    }
   ],
   "source": [
    "# Sorted by coefficients (excluding intercept) & filtering out features not selected in model\n",
    "miqp_coef_df.iloc[1:].loc[miqp_coef_df['Coefficients'] != 0].sort_values(by = 'Coefficients')"
   ]
  },
  {
   "cell_type": "markdown",
   "id": "57cf2402",
   "metadata": {},
   "source": [
    "A unit change in X9 has most absolute change on Y by decreasing it by 2.31 units. A unit change in X45 increases Y by 1.78 units"
   ]
  },
  {
   "cell_type": "code",
   "execution_count": 21,
   "id": "b6ca2b78",
   "metadata": {},
   "outputs": [],
   "source": [
    "x_test = np.hstack((np.ones((len(test),1)), np.array(test.drop(['y'], axis = 1))))\n",
    "y_test_pred_miqp = x_test @ op_mod_x.x[0:m+1]"
   ]
  },
  {
   "cell_type": "code",
   "execution_count": 22,
   "id": "742d7435",
   "metadata": {
    "scrolled": true
   },
   "outputs": [
    {
     "name": "stdout",
     "output_type": "stream",
     "text": [
      "Test MSE:  2.336543964552524\n"
     ]
    }
   ],
   "source": [
    "print('Test MSE: ', mean_squared_error(test['y'], y_test_pred_miqp))"
   ]
  },
  {
   "cell_type": "markdown",
   "id": "0efd8939",
   "metadata": {},
   "source": [
    "## Lasso Regression (Indirect Variable Selection)"
   ]
  },
  {
   "cell_type": "code",
   "execution_count": 23,
   "id": "5c0fee95",
   "metadata": {},
   "outputs": [],
   "source": [
    "X_train = train.drop(['y'], axis = 1)\n",
    "y_train = train['y']\n",
    "X_test = test.drop(['y'], axis = 1)\n",
    "y_test = test['y']"
   ]
  },
  {
   "cell_type": "code",
   "execution_count": 24,
   "id": "36103d5b",
   "metadata": {},
   "outputs": [
    {
     "data": {
      "text/html": [
       "<style>#sk-container-id-1 {color: black;background-color: white;}#sk-container-id-1 pre{padding: 0;}#sk-container-id-1 div.sk-toggleable {background-color: white;}#sk-container-id-1 label.sk-toggleable__label {cursor: pointer;display: block;width: 100%;margin-bottom: 0;padding: 0.3em;box-sizing: border-box;text-align: center;}#sk-container-id-1 label.sk-toggleable__label-arrow:before {content: \"▸\";float: left;margin-right: 0.25em;color: #696969;}#sk-container-id-1 label.sk-toggleable__label-arrow:hover:before {color: black;}#sk-container-id-1 div.sk-estimator:hover label.sk-toggleable__label-arrow:before {color: black;}#sk-container-id-1 div.sk-toggleable__content {max-height: 0;max-width: 0;overflow: hidden;text-align: left;background-color: #f0f8ff;}#sk-container-id-1 div.sk-toggleable__content pre {margin: 0.2em;color: black;border-radius: 0.25em;background-color: #f0f8ff;}#sk-container-id-1 input.sk-toggleable__control:checked~div.sk-toggleable__content {max-height: 200px;max-width: 100%;overflow: auto;}#sk-container-id-1 input.sk-toggleable__control:checked~label.sk-toggleable__label-arrow:before {content: \"▾\";}#sk-container-id-1 div.sk-estimator input.sk-toggleable__control:checked~label.sk-toggleable__label {background-color: #d4ebff;}#sk-container-id-1 div.sk-label input.sk-toggleable__control:checked~label.sk-toggleable__label {background-color: #d4ebff;}#sk-container-id-1 input.sk-hidden--visually {border: 0;clip: rect(1px 1px 1px 1px);clip: rect(1px, 1px, 1px, 1px);height: 1px;margin: -1px;overflow: hidden;padding: 0;position: absolute;width: 1px;}#sk-container-id-1 div.sk-estimator {font-family: monospace;background-color: #f0f8ff;border: 1px dotted black;border-radius: 0.25em;box-sizing: border-box;margin-bottom: 0.5em;}#sk-container-id-1 div.sk-estimator:hover {background-color: #d4ebff;}#sk-container-id-1 div.sk-parallel-item::after {content: \"\";width: 100%;border-bottom: 1px solid gray;flex-grow: 1;}#sk-container-id-1 div.sk-label:hover label.sk-toggleable__label {background-color: #d4ebff;}#sk-container-id-1 div.sk-serial::before {content: \"\";position: absolute;border-left: 1px solid gray;box-sizing: border-box;top: 0;bottom: 0;left: 50%;z-index: 0;}#sk-container-id-1 div.sk-serial {display: flex;flex-direction: column;align-items: center;background-color: white;padding-right: 0.2em;padding-left: 0.2em;position: relative;}#sk-container-id-1 div.sk-item {position: relative;z-index: 1;}#sk-container-id-1 div.sk-parallel {display: flex;align-items: stretch;justify-content: center;background-color: white;position: relative;}#sk-container-id-1 div.sk-item::before, #sk-container-id-1 div.sk-parallel-item::before {content: \"\";position: absolute;border-left: 1px solid gray;box-sizing: border-box;top: 0;bottom: 0;left: 50%;z-index: -1;}#sk-container-id-1 div.sk-parallel-item {display: flex;flex-direction: column;z-index: 1;position: relative;background-color: white;}#sk-container-id-1 div.sk-parallel-item:first-child::after {align-self: flex-end;width: 50%;}#sk-container-id-1 div.sk-parallel-item:last-child::after {align-self: flex-start;width: 50%;}#sk-container-id-1 div.sk-parallel-item:only-child::after {width: 0;}#sk-container-id-1 div.sk-dashed-wrapped {border: 1px dashed gray;margin: 0 0.4em 0.5em 0.4em;box-sizing: border-box;padding-bottom: 0.4em;background-color: white;}#sk-container-id-1 div.sk-label label {font-family: monospace;font-weight: bold;display: inline-block;line-height: 1.2em;}#sk-container-id-1 div.sk-label-container {text-align: center;}#sk-container-id-1 div.sk-container {/* jupyter's `normalize.less` sets `[hidden] { display: none; }` but bootstrap.min.css set `[hidden] { display: none !important; }` so we also need the `!important` here to be able to override the default hidden behavior on the sphinx rendered scikit-learn.org. See: https://github.com/scikit-learn/scikit-learn/issues/21755 */display: inline-block !important;position: relative;}#sk-container-id-1 div.sk-text-repr-fallback {display: none;}</style><div id=\"sk-container-id-1\" class=\"sk-top-container\"><div class=\"sk-text-repr-fallback\"><pre>LassoCV(cv=10, normalize=True, random_state=1)</pre><b>In a Jupyter environment, please rerun this cell to show the HTML representation or trust the notebook. <br />On GitHub, the HTML representation is unable to render, please try loading this page with nbviewer.org.</b></div><div class=\"sk-container\" hidden><div class=\"sk-item\"><div class=\"sk-estimator sk-toggleable\"><input class=\"sk-toggleable__control sk-hidden--visually\" id=\"sk-estimator-id-1\" type=\"checkbox\" checked><label for=\"sk-estimator-id-1\" class=\"sk-toggleable__label sk-toggleable__label-arrow\">LassoCV</label><div class=\"sk-toggleable__content\"><pre>LassoCV(cv=10, normalize=True, random_state=1)</pre></div></div></div></div></div>"
      ],
      "text/plain": [
       "LassoCV(cv=10, normalize=True, random_state=1)"
      ]
     },
     "execution_count": 24,
     "metadata": {},
     "output_type": "execute_result"
    }
   ],
   "source": [
    "lasso_cv = LassoCV(cv = 10, random_state = 1, normalize = True)\n",
    "lasso_cv.fit(X_train, y_train)"
   ]
  },
  {
   "cell_type": "code",
   "execution_count": 25,
   "id": "a7d3450c",
   "metadata": {},
   "outputs": [
    {
     "data": {
      "text/plain": [
       "0.0057453437864455085"
      ]
     },
     "execution_count": 25,
     "metadata": {},
     "output_type": "execute_result"
    }
   ],
   "source": [
    "# Penalization obtained from CV\n",
    "lasso_cv.alpha_"
   ]
  },
  {
   "cell_type": "code",
   "execution_count": 68,
   "id": "605a6e22",
   "metadata": {},
   "outputs": [
    {
     "data": {
      "text/plain": [
       "Text(0.5, 1.0, 'CV log MSE vs. lambda')"
      ]
     },
     "execution_count": 68,
     "metadata": {},
     "output_type": "execute_result"
    },
    {
     "data": {
      "image/png": "[encoded data removed]",
      "text/plain": [
       "<Figure size 576x396 with 1 Axes>"
      ]
     },
     "metadata": {},
     "output_type": "display_data"
    }
   ],
   "source": [
    "# checking the MSE wrt different values of alpha(or lambda regularization parameter)\n",
    "plt.plot(lasso_cv.alphas_, np.log(pd.DataFrame(lasso_cv.mse_path_).mean(axis=1)))\n",
    "plt.xlabel('regularization constant (lambda)')\n",
    "plt.ylabel('MSE')\n",
    "plt.title('CV log MSE vs. lambda')"
   ]
  },
  {
   "cell_type": "code",
   "execution_count": 69,
   "id": "17d1c82a",
   "metadata": {},
   "outputs": [
    {
     "data": {
      "text/html": [
       "<style>#sk-container-id-4 {color: black;background-color: white;}#sk-container-id-4 pre{padding: 0;}#sk-container-id-4 div.sk-toggleable {background-color: white;}#sk-container-id-4 label.sk-toggleable__label {cursor: pointer;display: block;width: 100%;margin-bottom: 0;padding: 0.3em;box-sizing: border-box;text-align: center;}#sk-container-id-4 label.sk-toggleable__label-arrow:before {content: \"▸\";float: left;margin-right: 0.25em;color: #696969;}#sk-container-id-4 label.sk-toggleable__label-arrow:hover:before {color: black;}#sk-container-id-4 div.sk-estimator:hover label.sk-toggleable__label-arrow:before {color: black;}#sk-container-id-4 div.sk-toggleable__content {max-height: 0;max-width: 0;overflow: hidden;text-align: left;background-color: #f0f8ff;}#sk-container-id-4 div.sk-toggleable__content pre {margin: 0.2em;color: black;border-radius: 0.25em;background-color: #f0f8ff;}#sk-container-id-4 input.sk-toggleable__control:checked~div.sk-toggleable__content {max-height: 200px;max-width: 100%;overflow: auto;}#sk-container-id-4 input.sk-toggleable__control:checked~label.sk-toggleable__label-arrow:before {content: \"▾\";}#sk-container-id-4 div.sk-estimator input.sk-toggleable__control:checked~label.sk-toggleable__label {background-color: #d4ebff;}#sk-container-id-4 div.sk-label input.sk-toggleable__control:checked~label.sk-toggleable__label {background-color: #d4ebff;}#sk-container-id-4 input.sk-hidden--visually {border: 0;clip: rect(1px 1px 1px 1px);clip: rect(1px, 1px, 1px, 1px);height: 1px;margin: -1px;overflow: hidden;padding: 0;position: absolute;width: 1px;}#sk-container-id-4 div.sk-estimator {font-family: monospace;background-color: #f0f8ff;border: 1px dotted black;border-radius: 0.25em;box-sizing: border-box;margin-bottom: 0.5em;}#sk-container-id-4 div.sk-estimator:hover {background-color: #d4ebff;}#sk-container-id-4 div.sk-parallel-item::after {content: \"\";width: 100%;border-bottom: 1px solid gray;flex-grow: 1;}#sk-container-id-4 div.sk-label:hover label.sk-toggleable__label {background-color: #d4ebff;}#sk-container-id-4 div.sk-serial::before {content: \"\";position: absolute;border-left: 1px solid gray;box-sizing: border-box;top: 0;bottom: 0;left: 50%;z-index: 0;}#sk-container-id-4 div.sk-serial {display: flex;flex-direction: column;align-items: center;background-color: white;padding-right: 0.2em;padding-left: 0.2em;position: relative;}#sk-container-id-4 div.sk-item {position: relative;z-index: 1;}#sk-container-id-4 div.sk-parallel {display: flex;align-items: stretch;justify-content: center;background-color: white;position: relative;}#sk-container-id-4 div.sk-item::before, #sk-container-id-4 div.sk-parallel-item::before {content: \"\";position: absolute;border-left: 1px solid gray;box-sizing: border-box;top: 0;bottom: 0;left: 50%;z-index: -1;}#sk-container-id-4 div.sk-parallel-item {display: flex;flex-direction: column;z-index: 1;position: relative;background-color: white;}#sk-container-id-4 div.sk-parallel-item:first-child::after {align-self: flex-end;width: 50%;}#sk-container-id-4 div.sk-parallel-item:last-child::after {align-self: flex-start;width: 50%;}#sk-container-id-4 div.sk-parallel-item:only-child::after {width: 0;}#sk-container-id-4 div.sk-dashed-wrapped {border: 1px dashed gray;margin: 0 0.4em 0.5em 0.4em;box-sizing: border-box;padding-bottom: 0.4em;background-color: white;}#sk-container-id-4 div.sk-label label {font-family: monospace;font-weight: bold;display: inline-block;line-height: 1.2em;}#sk-container-id-4 div.sk-label-container {text-align: center;}#sk-container-id-4 div.sk-container {/* jupyter's `normalize.less` sets `[hidden] { display: none; }` but bootstrap.min.css set `[hidden] { display: none !important; }` so we also need the `!important` here to be able to override the default hidden behavior on the sphinx rendered scikit-learn.org. See: https://github.com/scikit-learn/scikit-learn/issues/21755 */display: inline-block !important;position: relative;}#sk-container-id-4 div.sk-text-repr-fallback {display: none;}</style><div id=\"sk-container-id-4\" class=\"sk-top-container\"><div class=\"sk-text-repr-fallback\"><pre>Lasso(alpha=0.0057453437864455085, normalize=True)</pre><b>In a Jupyter environment, please rerun this cell to show the HTML representation or trust the notebook. <br />On GitHub, the HTML representation is unable to render, please try loading this page with nbviewer.org.</b></div><div class=\"sk-container\" hidden><div class=\"sk-item\"><div class=\"sk-estimator sk-toggleable\"><input class=\"sk-toggleable__control sk-hidden--visually\" id=\"sk-estimator-id-4\" type=\"checkbox\" checked><label for=\"sk-estimator-id-4\" class=\"sk-toggleable__label sk-toggleable__label-arrow\">Lasso</label><div class=\"sk-toggleable__content\"><pre>Lasso(alpha=0.0057453437864455085, normalize=True)</pre></div></div></div></div></div>"
      ],
      "text/plain": [
       "Lasso(alpha=0.0057453437864455085, normalize=True)"
      ]
     },
     "execution_count": 69,
     "metadata": {},
     "output_type": "execute_result"
    }
   ],
   "source": [
    "lasso = Lasso(alpha = lasso_cv.alpha_, normalize = True)\n",
    "lasso.fit(X_train, y_train)"
   ]
  },
  {
   "cell_type": "code",
   "execution_count": 70,
   "id": "8e237d96",
   "metadata": {},
   "outputs": [],
   "source": [
    "lasso_coefs = [lasso.intercept_] + list(lasso.coef_)"
   ]
  },
  {
   "cell_type": "code",
   "execution_count": 71,
   "id": "5974ed2d",
   "metadata": {},
   "outputs": [
    {
     "data": {
      "text/html": [
       "<div>\n",
       "<style scoped>\n",
       "    .dataframe tbody tr th:only-of-type {\n",
       "        vertical-align: middle;\n",
       "    }\n",
       "\n",
       "    .dataframe tbody tr th {\n",
       "        vertical-align: top;\n",
       "    }\n",
       "\n",
       "    .dataframe thead th {\n",
       "        text-align: right;\n",
       "    }\n",
       "</style>\n",
       "<table border=\"1\" class=\"dataframe\">\n",
       "  <thead>\n",
       "    <tr style=\"text-align: right;\">\n",
       "      <th></th>\n",
       "      <th>Coefficients</th>\n",
       "    </tr>\n",
       "  </thead>\n",
       "  <tbody>\n",
       "    <tr>\n",
       "      <th>Intercept</th>\n",
       "      <td>1.006196</td>\n",
       "    </tr>\n",
       "    <tr>\n",
       "      <th>X9</th>\n",
       "      <td>-2.115615</td>\n",
       "    </tr>\n",
       "    <tr>\n",
       "      <th>X11</th>\n",
       "      <td>-0.060431</td>\n",
       "    </tr>\n",
       "    <tr>\n",
       "      <th>X15</th>\n",
       "      <td>-0.416745</td>\n",
       "    </tr>\n",
       "    <tr>\n",
       "      <th>X16</th>\n",
       "      <td>-0.181553</td>\n",
       "    </tr>\n",
       "    <tr>\n",
       "      <th>X22</th>\n",
       "      <td>-0.197102</td>\n",
       "    </tr>\n",
       "    <tr>\n",
       "      <th>X23</th>\n",
       "      <td>-1.365528</td>\n",
       "    </tr>\n",
       "    <tr>\n",
       "      <th>X24</th>\n",
       "      <td>0.735100</td>\n",
       "    </tr>\n",
       "    <tr>\n",
       "      <th>X26</th>\n",
       "      <td>-1.300186</td>\n",
       "    </tr>\n",
       "    <tr>\n",
       "      <th>X29</th>\n",
       "      <td>0.063903</td>\n",
       "    </tr>\n",
       "    <tr>\n",
       "      <th>X33</th>\n",
       "      <td>-0.107380</td>\n",
       "    </tr>\n",
       "    <tr>\n",
       "      <th>X34</th>\n",
       "      <td>0.253927</td>\n",
       "    </tr>\n",
       "    <tr>\n",
       "      <th>X35</th>\n",
       "      <td>0.021384</td>\n",
       "    </tr>\n",
       "    <tr>\n",
       "      <th>X39</th>\n",
       "      <td>-0.211595</td>\n",
       "    </tr>\n",
       "    <tr>\n",
       "      <th>X44</th>\n",
       "      <td>0.011523</td>\n",
       "    </tr>\n",
       "    <tr>\n",
       "      <th>X45</th>\n",
       "      <td>1.531715</td>\n",
       "    </tr>\n",
       "    <tr>\n",
       "      <th>X46</th>\n",
       "      <td>-0.014088</td>\n",
       "    </tr>\n",
       "    <tr>\n",
       "      <th>X47</th>\n",
       "      <td>0.650478</td>\n",
       "    </tr>\n",
       "    <tr>\n",
       "      <th>X48</th>\n",
       "      <td>-0.097579</td>\n",
       "    </tr>\n",
       "  </tbody>\n",
       "</table>\n",
       "</div>"
      ],
      "text/plain": [
       "           Coefficients\n",
       "Intercept      1.006196\n",
       "X9            -2.115615\n",
       "X11           -0.060431\n",
       "X15           -0.416745\n",
       "X16           -0.181553\n",
       "X22           -0.197102\n",
       "X23           -1.365528\n",
       "X24            0.735100\n",
       "X26           -1.300186\n",
       "X29            0.063903\n",
       "X33           -0.107380\n",
       "X34            0.253927\n",
       "X35            0.021384\n",
       "X39           -0.211595\n",
       "X44            0.011523\n",
       "X45            1.531715\n",
       "X46           -0.014088\n",
       "X47            0.650478\n",
       "X48           -0.097579"
      ]
     },
     "execution_count": 71,
     "metadata": {},
     "output_type": "execute_result"
    }
   ],
   "source": [
    "# Look at the LASSO coefficients\n",
    "lasso_coef_df = pd.DataFrame({'Coefficients': lasso_coefs}, index = train.columns)\n",
    "lasso_coef_df.rename(index = {'y':'Intercept'}, inplace = True)\n",
    "lasso_coef_df.loc[lasso_coef_df['Coefficients']!=0]"
   ]
  },
  {
   "cell_type": "markdown",
   "id": "351ac765",
   "metadata": {},
   "source": [
    "## Comparing MIQP and Lasso"
   ]
  },
  {
   "cell_type": "code",
   "execution_count": 72,
   "id": "d71c6074",
   "metadata": {
    "scrolled": true
   },
   "outputs": [
    {
     "data": {
      "text/html": [
       "<div>\n",
       "<style scoped>\n",
       "    .dataframe tbody tr th:only-of-type {\n",
       "        vertical-align: middle;\n",
       "    }\n",
       "\n",
       "    .dataframe tbody tr th {\n",
       "        vertical-align: top;\n",
       "    }\n",
       "\n",
       "    .dataframe thead th {\n",
       "        text-align: right;\n",
       "    }\n",
       "</style>\n",
       "<table border=\"1\" class=\"dataframe\">\n",
       "  <thead>\n",
       "    <tr style=\"text-align: right;\">\n",
       "      <th></th>\n",
       "      <th>MIQP</th>\n",
       "      <th>LASSO</th>\n",
       "    </tr>\n",
       "  </thead>\n",
       "  <tbody>\n",
       "    <tr>\n",
       "      <th>Intercept</th>\n",
       "      <td>0.972524</td>\n",
       "      <td>1.006196</td>\n",
       "    </tr>\n",
       "    <tr>\n",
       "      <th>X1</th>\n",
       "      <td>0.000000</td>\n",
       "      <td>-0.000000</td>\n",
       "    </tr>\n",
       "    <tr>\n",
       "      <th>X2</th>\n",
       "      <td>0.000000</td>\n",
       "      <td>-0.000000</td>\n",
       "    </tr>\n",
       "    <tr>\n",
       "      <th>X3</th>\n",
       "      <td>0.000000</td>\n",
       "      <td>0.000000</td>\n",
       "    </tr>\n",
       "    <tr>\n",
       "      <th>X4</th>\n",
       "      <td>0.000000</td>\n",
       "      <td>0.000000</td>\n",
       "    </tr>\n",
       "    <tr>\n",
       "      <th>X5</th>\n",
       "      <td>0.000000</td>\n",
       "      <td>-0.000000</td>\n",
       "    </tr>\n",
       "    <tr>\n",
       "      <th>X6</th>\n",
       "      <td>0.000000</td>\n",
       "      <td>0.000000</td>\n",
       "    </tr>\n",
       "    <tr>\n",
       "      <th>X7</th>\n",
       "      <td>0.000000</td>\n",
       "      <td>-0.000000</td>\n",
       "    </tr>\n",
       "    <tr>\n",
       "      <th>X8</th>\n",
       "      <td>0.000000</td>\n",
       "      <td>-0.000000</td>\n",
       "    </tr>\n",
       "    <tr>\n",
       "      <th>X9</th>\n",
       "      <td>-2.308207</td>\n",
       "      <td>-2.115615</td>\n",
       "    </tr>\n",
       "    <tr>\n",
       "      <th>X10</th>\n",
       "      <td>0.000000</td>\n",
       "      <td>0.000000</td>\n",
       "    </tr>\n",
       "    <tr>\n",
       "      <th>X11</th>\n",
       "      <td>0.000000</td>\n",
       "      <td>-0.060431</td>\n",
       "    </tr>\n",
       "    <tr>\n",
       "      <th>X12</th>\n",
       "      <td>0.000000</td>\n",
       "      <td>-0.000000</td>\n",
       "    </tr>\n",
       "    <tr>\n",
       "      <th>X13</th>\n",
       "      <td>0.000000</td>\n",
       "      <td>-0.000000</td>\n",
       "    </tr>\n",
       "    <tr>\n",
       "      <th>X14</th>\n",
       "      <td>0.000000</td>\n",
       "      <td>-0.000000</td>\n",
       "    </tr>\n",
       "    <tr>\n",
       "      <th>X15</th>\n",
       "      <td>-0.518326</td>\n",
       "      <td>-0.416745</td>\n",
       "    </tr>\n",
       "    <tr>\n",
       "      <th>X16</th>\n",
       "      <td>-0.204162</td>\n",
       "      <td>-0.181553</td>\n",
       "    </tr>\n",
       "    <tr>\n",
       "      <th>X17</th>\n",
       "      <td>0.000000</td>\n",
       "      <td>0.000000</td>\n",
       "    </tr>\n",
       "    <tr>\n",
       "      <th>X18</th>\n",
       "      <td>0.000000</td>\n",
       "      <td>0.000000</td>\n",
       "    </tr>\n",
       "    <tr>\n",
       "      <th>X19</th>\n",
       "      <td>0.000000</td>\n",
       "      <td>-0.000000</td>\n",
       "    </tr>\n",
       "    <tr>\n",
       "      <th>X20</th>\n",
       "      <td>0.000000</td>\n",
       "      <td>0.000000</td>\n",
       "    </tr>\n",
       "    <tr>\n",
       "      <th>X21</th>\n",
       "      <td>0.000000</td>\n",
       "      <td>0.000000</td>\n",
       "    </tr>\n",
       "    <tr>\n",
       "      <th>X22</th>\n",
       "      <td>0.000000</td>\n",
       "      <td>-0.197102</td>\n",
       "    </tr>\n",
       "    <tr>\n",
       "      <th>X23</th>\n",
       "      <td>-1.559143</td>\n",
       "      <td>-1.365528</td>\n",
       "    </tr>\n",
       "    <tr>\n",
       "      <th>X24</th>\n",
       "      <td>0.866973</td>\n",
       "      <td>0.735100</td>\n",
       "    </tr>\n",
       "    <tr>\n",
       "      <th>X25</th>\n",
       "      <td>0.000000</td>\n",
       "      <td>-0.000000</td>\n",
       "    </tr>\n",
       "    <tr>\n",
       "      <th>X26</th>\n",
       "      <td>-1.311919</td>\n",
       "      <td>-1.300186</td>\n",
       "    </tr>\n",
       "    <tr>\n",
       "      <th>X27</th>\n",
       "      <td>0.000000</td>\n",
       "      <td>0.000000</td>\n",
       "    </tr>\n",
       "    <tr>\n",
       "      <th>X28</th>\n",
       "      <td>0.000000</td>\n",
       "      <td>0.000000</td>\n",
       "    </tr>\n",
       "    <tr>\n",
       "      <th>X29</th>\n",
       "      <td>0.000000</td>\n",
       "      <td>0.063903</td>\n",
       "    </tr>\n",
       "    <tr>\n",
       "      <th>X30</th>\n",
       "      <td>0.000000</td>\n",
       "      <td>0.000000</td>\n",
       "    </tr>\n",
       "    <tr>\n",
       "      <th>X31</th>\n",
       "      <td>0.000000</td>\n",
       "      <td>-0.000000</td>\n",
       "    </tr>\n",
       "    <tr>\n",
       "      <th>X32</th>\n",
       "      <td>0.000000</td>\n",
       "      <td>0.000000</td>\n",
       "    </tr>\n",
       "    <tr>\n",
       "      <th>X33</th>\n",
       "      <td>0.000000</td>\n",
       "      <td>-0.107380</td>\n",
       "    </tr>\n",
       "    <tr>\n",
       "      <th>X34</th>\n",
       "      <td>0.408165</td>\n",
       "      <td>0.253927</td>\n",
       "    </tr>\n",
       "    <tr>\n",
       "      <th>X35</th>\n",
       "      <td>0.000000</td>\n",
       "      <td>0.021384</td>\n",
       "    </tr>\n",
       "    <tr>\n",
       "      <th>X36</th>\n",
       "      <td>0.000000</td>\n",
       "      <td>0.000000</td>\n",
       "    </tr>\n",
       "    <tr>\n",
       "      <th>X37</th>\n",
       "      <td>0.000000</td>\n",
       "      <td>0.000000</td>\n",
       "    </tr>\n",
       "    <tr>\n",
       "      <th>X38</th>\n",
       "      <td>0.000000</td>\n",
       "      <td>0.000000</td>\n",
       "    </tr>\n",
       "    <tr>\n",
       "      <th>X39</th>\n",
       "      <td>0.000000</td>\n",
       "      <td>-0.211595</td>\n",
       "    </tr>\n",
       "    <tr>\n",
       "      <th>X40</th>\n",
       "      <td>0.000000</td>\n",
       "      <td>0.000000</td>\n",
       "    </tr>\n",
       "    <tr>\n",
       "      <th>X41</th>\n",
       "      <td>0.000000</td>\n",
       "      <td>-0.000000</td>\n",
       "    </tr>\n",
       "    <tr>\n",
       "      <th>X42</th>\n",
       "      <td>0.000000</td>\n",
       "      <td>0.000000</td>\n",
       "    </tr>\n",
       "    <tr>\n",
       "      <th>X43</th>\n",
       "      <td>0.000000</td>\n",
       "      <td>0.000000</td>\n",
       "    </tr>\n",
       "    <tr>\n",
       "      <th>X44</th>\n",
       "      <td>0.000000</td>\n",
       "      <td>0.011523</td>\n",
       "    </tr>\n",
       "    <tr>\n",
       "      <th>X45</th>\n",
       "      <td>1.781475</td>\n",
       "      <td>1.531715</td>\n",
       "    </tr>\n",
       "    <tr>\n",
       "      <th>X46</th>\n",
       "      <td>0.000000</td>\n",
       "      <td>-0.014088</td>\n",
       "    </tr>\n",
       "    <tr>\n",
       "      <th>X47</th>\n",
       "      <td>0.887383</td>\n",
       "      <td>0.650478</td>\n",
       "    </tr>\n",
       "    <tr>\n",
       "      <th>X48</th>\n",
       "      <td>-0.282292</td>\n",
       "      <td>-0.097579</td>\n",
       "    </tr>\n",
       "    <tr>\n",
       "      <th>X49</th>\n",
       "      <td>0.000000</td>\n",
       "      <td>0.000000</td>\n",
       "    </tr>\n",
       "    <tr>\n",
       "      <th>X50</th>\n",
       "      <td>0.000000</td>\n",
       "      <td>0.000000</td>\n",
       "    </tr>\n",
       "  </tbody>\n",
       "</table>\n",
       "</div>"
      ],
      "text/plain": [
       "               MIQP     LASSO\n",
       "Intercept  0.972524  1.006196\n",
       "X1         0.000000 -0.000000\n",
       "X2         0.000000 -0.000000\n",
       "X3         0.000000  0.000000\n",
       "X4         0.000000  0.000000\n",
       "X5         0.000000 -0.000000\n",
       "X6         0.000000  0.000000\n",
       "X7         0.000000 -0.000000\n",
       "X8         0.000000 -0.000000\n",
       "X9        -2.308207 -2.115615\n",
       "X10        0.000000  0.000000\n",
       "X11        0.000000 -0.060431\n",
       "X12        0.000000 -0.000000\n",
       "X13        0.000000 -0.000000\n",
       "X14        0.000000 -0.000000\n",
       "X15       -0.518326 -0.416745\n",
       "X16       -0.204162 -0.181553\n",
       "X17        0.000000  0.000000\n",
       "X18        0.000000  0.000000\n",
       "X19        0.000000 -0.000000\n",
       "X20        0.000000  0.000000\n",
       "X21        0.000000  0.000000\n",
       "X22        0.000000 -0.197102\n",
       "X23       -1.559143 -1.365528\n",
       "X24        0.866973  0.735100\n",
       "X25        0.000000 -0.000000\n",
       "X26       -1.311919 -1.300186\n",
       "X27        0.000000  0.000000\n",
       "X28        0.000000  0.000000\n",
       "X29        0.000000  0.063903\n",
       "X30        0.000000  0.000000\n",
       "X31        0.000000 -0.000000\n",
       "X32        0.000000  0.000000\n",
       "X33        0.000000 -0.107380\n",
       "X34        0.408165  0.253927\n",
       "X35        0.000000  0.021384\n",
       "X36        0.000000  0.000000\n",
       "X37        0.000000  0.000000\n",
       "X38        0.000000  0.000000\n",
       "X39        0.000000 -0.211595\n",
       "X40        0.000000  0.000000\n",
       "X41        0.000000 -0.000000\n",
       "X42        0.000000  0.000000\n",
       "X43        0.000000  0.000000\n",
       "X44        0.000000  0.011523\n",
       "X45        1.781475  1.531715\n",
       "X46        0.000000 -0.014088\n",
       "X47        0.887383  0.650478\n",
       "X48       -0.282292 -0.097579\n",
       "X49        0.000000  0.000000\n",
       "X50        0.000000  0.000000"
      ]
     },
     "execution_count": 72,
     "metadata": {},
     "output_type": "execute_result"
    }
   ],
   "source": [
    "# Compare coefficients between MIQP & LASSO\n",
    "coefs = pd.DataFrame({'MIQP':miqp_coefs, 'LASSO':lasso_coefs}, index = train.columns)\n",
    "coefs.rename(index = {'y':'Intercept'}, inplace = True)\n",
    "coefs"
   ]
  },
  {
   "cell_type": "code",
   "execution_count": 73,
   "id": "5d976225",
   "metadata": {},
   "outputs": [
    {
     "name": "stdout",
     "output_type": "stream",
     "text": [
      "Number of features driven to zero:  32\n",
      "Number of features not driven to zero:  18\n"
     ]
    }
   ],
   "source": [
    "print('Number of features driven to zero: ', len(coefs[coefs['LASSO'] == 0]))\n",
    "print('Number of features not driven to zero: ', len(coefs[coefs['LASSO'] != 0])-1) #we do a -1 here to exclude the intercept"
   ]
  },
  {
   "cell_type": "code",
   "execution_count": 31,
   "id": "655e68e4",
   "metadata": {},
   "outputs": [],
   "source": [
    "# Predict on test set\n",
    "y_test_pred_lasso = lasso.predict(X_test)"
   ]
  },
  {
   "cell_type": "code",
   "execution_count": 32,
   "id": "d12e97b6",
   "metadata": {},
   "outputs": [
    {
     "name": "stdout",
     "output_type": "stream",
     "text": [
      "Mean squared error on test set: 2.35971\n"
     ]
    }
   ],
   "source": [
    "# Print errors\n",
    "print('Mean squared error on test set: %.5f' % (mean_squared_error(y_test, y_test_pred_lasso)))"
   ]
  },
  {
   "cell_type": "code",
   "execution_count": 33,
   "id": "0744c78b",
   "metadata": {},
   "outputs": [
    {
     "data": {
      "image/png": "[encoded data removed]",
      "text/plain": [
       "<Figure size 1440x576 with 1 Axes>"
      ]
     },
     "metadata": {},
     "output_type": "display_data"
    }
   ],
   "source": [
    "# Comparison of regression coefficients between MIQP & LASSO\n",
    "plt.figure(3, figsize=(20, 8))\n",
    "plt.plot(coefs.index, coefs['MIQP'], label = 'MIQP', marker='o')\n",
    "plt.plot(coefs.index, coefs['LASSO'], label = 'LASSO', marker='o')\n",
    "plt.xticks(rotation = -45, fontsize= 13)\n",
    "plt.legend(loc='best',  fontsize=12)\n",
    "plt.title('Comparing Coefficients between MIQP & LASSO', fontdict={'fontsize': 16})\n",
    "plt.show()"
   ]
  },
  {
   "cell_type": "code",
   "execution_count": 34,
   "id": "2ea2a472",
   "metadata": {},
   "outputs": [
    {
     "data": {
      "image/png": "[encoded data removed]",
      "text/plain": [
       "<Figure size 1440x576 with 1 Axes>"
      ]
     },
     "metadata": {},
     "output_type": "display_data"
    }
   ],
   "source": [
    "# Comparing predictions between MIQP & LASSO\n",
    "plt.figure(3, figsize=(20, 8))\n",
    "sns.kdeplot(y_test_pred_miqp, alpha = 0.4, fill = True, label='MIQP', legend=True)\n",
    "sns.kdeplot(y_test_pred_lasso, alpha = 0.4, fill = True, label='LASSO', legend=True)\n",
    "plt.legend()\n",
    "plt.xlabel('Prediction')\n",
    "plt.title('Predicted Value Densities between MIQP & LASSO', fontdict={'fontsize': 16})\n",
    "plt.xticks(fontsize= 13)\n",
    "plt.show()"
   ]
  }
 ],
 "metadata": {
  "kernelspec": {
   "display_name": "Python 3 (ipykernel)",
   "language": "python",
   "name": "python3"
  },
  "language_info": {
   "codemirror_mode": {
    "name": "ipython",
    "version": 3
   },
   "file_extension": ".py",
   "mimetype": "text/x-python",
   "name": "python",
   "nbconvert_exporter": "python",
   "pygments_lexer": "ipython3",
   "version": "3.8.13"
  }
 },
 "nbformat": 4,
 "nbformat_minor": 5
}
